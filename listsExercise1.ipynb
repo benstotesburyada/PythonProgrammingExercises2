{
 "cells": [
  {
   "cell_type": "code",
   "execution_count": 10,
   "metadata": {},
   "outputs": [],
   "source": [
    "#declare variables that are lists\n",
    "myNumberList = [1, 2, 3, 4, 5, 6, 7, 8, 9]\n",
    "myNameList = [\"ana\",\"ben\",\"carly\",\"dave\",\"elaine\",\"fred\"]"
   ]
  },
  {
   "cell_type": "code",
   "execution_count": 2,
   "metadata": {},
   "outputs": [
    {
     "name": "stdout",
     "output_type": "stream",
     "text": [
      "[1, 2, 3, 4, 5, 6, 7, 8]\n",
      "['ana', 'ben', 'carly', 'dave', 'elaine', 'fred']\n"
     ]
    }
   ],
   "source": [
    "#output list with its structure\n",
    "print(myNumberList)\n",
    "print(myNameList)"
   ]
  },
  {
   "cell_type": "code",
   "execution_count": 4,
   "metadata": {},
   "outputs": [
    {
     "name": "stdout",
     "output_type": "stream",
     "text": [
      "ana\n",
      "ben\n",
      "carly\n",
      "dave\n",
      "elaine\n",
      "fred\n"
     ]
    }
   ],
   "source": [
    "#output the list, one element at a time\n",
    "#use a for loop and iterate through the list\n",
    "for item in (myNameList):\n",
    "    print(item)"
   ]
  },
  {
   "cell_type": "code",
   "execution_count": 7,
   "metadata": {},
   "outputs": [
    {
     "name": "stdout",
     "output_type": "stream",
     "text": [
      "ana, ben, carly, dave, elaine, fred, "
     ]
    }
   ],
   "source": [
    "for item in (myNameList):\n",
    "    print(item, end=\", \")#prints each item without a new line"
   ]
  },
  {
   "cell_type": "code",
   "execution_count": 11,
   "metadata": {},
   "outputs": [
    {
     "name": "stdout",
     "output_type": "stream",
     "text": [
      "6\n",
      "9\n"
     ]
    }
   ],
   "source": [
    "#how can you find out how many elements a list has\n",
    "x = len(myNameList)\n",
    "print(x)\n",
    "y = len(myNumberList)\n",
    "print(y)"
   ]
  },
  {
   "cell_type": "code",
   "execution_count": 19,
   "metadata": {},
   "outputs": [
    {
     "name": "stdout",
     "output_type": "stream",
     "text": [
      "ana\n",
      "carly\n",
      "elaine\n"
     ]
    }
   ],
   "source": [
    "#how to print a specific element of a list\n",
    "for secondElement in range(len(myNameList)):\n",
    "    #only print if the list index number is even/divisible by 2\n",
    "    if secondElement%2 == 0:\n",
    "        print(myNameList[secondElement])"
   ]
  },
  {
   "cell_type": "code",
   "execution_count": 22,
   "metadata": {},
   "outputs": [
    {
     "name": "stdout",
     "output_type": "stream",
     "text": [
      "ana\n",
      "carly\n",
      "elaine\n"
     ]
    }
   ],
   "source": [
    "#how to print every second element of a list\n",
    "for i in range(0,len(myNameList),2):\n",
    "    print(myNameList[i])"
   ]
  }
 ],
 "metadata": {
  "kernelspec": {
   "display_name": "Python 3",
   "language": "python",
   "name": "python3"
  },
  "language_info": {
   "codemirror_mode": {
    "name": "ipython",
    "version": 3
   },
   "file_extension": ".py",
   "mimetype": "text/x-python",
   "name": "python",
   "nbconvert_exporter": "python",
   "pygments_lexer": "ipython3",
   "version": "3.5.2"
  }
 },
 "nbformat": 4,
 "nbformat_minor": 2
}
