{
 "cells": [
  {
   "cell_type": "markdown",
   "metadata": {},
   "source": [
    "# Strings Exercise 1"
   ]
  },
  {
   "cell_type": "code",
   "execution_count": 76,
   "metadata": {},
   "outputs": [],
   "source": [
    "#create a variable with the data type string\n",
    "myString = \"hello world\" #double quotes means text data\n",
    "userName = \"Ben\"\n",
    "words = \"this is a bunch of words\"\n",
    "question = \"What is the capital of Mali?\"\n",
    "age = 10 #this is not a string"
   ]
  },
  {
   "cell_type": "code",
   "execution_count": 80,
   "metadata": {},
   "outputs": [
    {
     "name": "stdout",
     "output_type": "stream",
     "text": [
      "this is a bunch of words\n",
      "this is a bunch of wordsWhat is the capital of Mali?\n",
      "Hello there Ben\n",
      "Hello user aged 10\n"
     ]
    }
   ],
   "source": [
    "#functions that I can use to output and input and do other things with strings\n",
    "#output\n",
    "print(words)\n",
    "print(words+ question) #when you + strings you are CONCATENATING strings\n",
    "#printing hardcoded stuff and variables\n",
    "print(\"Hello there \"+userName)\n",
    "print(\"Hello user aged\"+ age)#this should not work since age is not a string"
   ]
  },
  {
   "cell_type": "code",
   "execution_count": 86,
   "metadata": {},
   "outputs": [
    {
     "name": "stdout",
     "output_type": "stream",
     "text": [
      "Hello user aged 10\n"
     ]
    }
   ],
   "source": [
    "#convert an int into a string\n",
    "str(age)\n",
    "print(\"Hello user aged \"+ str(age)) #first turn the age number into a string and then concatenate"
   ]
  },
  {
   "cell_type": "code",
   "execution_count": null,
   "metadata": {},
   "outputs": [],
   "source": [
    "#inputting a string\n",
    "userName = input(\"What is your name \")\n",
    "print(userName)\n",
    "\n",
    "age= int(input(\"What is your age?\"))\n",
    "print(age)"
   ]
  }
 ],
 "metadata": {
  "kernelspec": {
   "display_name": "Python 3",
   "language": "python",
   "name": "python3"
  },
  "language_info": {
   "codemirror_mode": {
    "name": "ipython",
    "version": 3
   },
   "file_extension": ".py",
   "mimetype": "text/x-python",
   "name": "python",
   "nbconvert_exporter": "python",
   "pygments_lexer": "ipython3",
   "version": "3.5.2"
  }
 },
 "nbformat": 4,
 "nbformat_minor": 2
}
